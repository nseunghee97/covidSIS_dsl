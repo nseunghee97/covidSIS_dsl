{
 "cells": [
  {
   "cell_type": "code",
   "execution_count": 1,
   "metadata": {},
   "outputs": [],
   "source": [
    "import pandas as pd\n",
    "import numpy as np\n",
    "import matplotlib.pyplot as plt\n",
    "import os\n",
    "import math\n",
    "\n",
    "pd.set_option('display.max_columns', None)"
   ]
  },
  {
   "cell_type": "code",
   "execution_count": 2,
   "metadata": {},
   "outputs": [],
   "source": [
    "os.chdir('/Users/이진우/Desktop/학회/4기활동/심화스터디, 세션/Network_Analysis/플젝')\n",
    "\n",
    "# 서울버스노선 정보 (노선명, 정류장id, 같은 노선 내에 정류장 순서, 좌표)\n",
    "bus = pd.read_csv('./서울노선정보.csv')\n",
    "bus = bus.loc[:,['노선명', 'ARS-ID', '순번','X좌표','Y좌표']]\n",
    "\n",
    "# 2020년 1월 승하차 정보\n",
    "b1 = pd.read_csv('./1.csv', encoding='cp949')"
   ]
  },
  {
   "cell_type": "markdown",
   "metadata": {},
   "source": [
    "### bus : 특정 노선 내 정류장들의 순서와 좌표에 대한 데이터"
   ]
  },
  {
   "cell_type": "code",
   "execution_count": 3,
   "metadata": {},
   "outputs": [
    {
     "data": {
      "text/html": [
       "<div>\n",
       "<style scoped>\n",
       "    .dataframe tbody tr th:only-of-type {\n",
       "        vertical-align: middle;\n",
       "    }\n",
       "\n",
       "    .dataframe tbody tr th {\n",
       "        vertical-align: top;\n",
       "    }\n",
       "\n",
       "    .dataframe thead th {\n",
       "        text-align: right;\n",
       "    }\n",
       "</style>\n",
       "<table border=\"1\" class=\"dataframe\">\n",
       "  <thead>\n",
       "    <tr style=\"text-align: right;\">\n",
       "      <th></th>\n",
       "      <th>노선명</th>\n",
       "      <th>ARS-ID</th>\n",
       "      <th>순번</th>\n",
       "      <th>X좌표</th>\n",
       "      <th>Y좌표</th>\n",
       "    </tr>\n",
       "  </thead>\n",
       "  <tbody>\n",
       "    <tr>\n",
       "      <th>0</th>\n",
       "      <td>0017</td>\n",
       "      <td>3689</td>\n",
       "      <td>1</td>\n",
       "      <td>126.946517</td>\n",
       "      <td>37.534363</td>\n",
       "    </tr>\n",
       "    <tr>\n",
       "      <th>1</th>\n",
       "      <td>0017</td>\n",
       "      <td>3298</td>\n",
       "      <td>2</td>\n",
       "      <td>126.949304</td>\n",
       "      <td>37.533961</td>\n",
       "    </tr>\n",
       "    <tr>\n",
       "      <th>2</th>\n",
       "      <td>0017</td>\n",
       "      <td>3321</td>\n",
       "      <td>3</td>\n",
       "      <td>126.950449</td>\n",
       "      <td>37.533744</td>\n",
       "    </tr>\n",
       "  </tbody>\n",
       "</table>\n",
       "</div>"
      ],
      "text/plain": [
       "    노선명  ARS-ID  순번         X좌표        Y좌표\n",
       "0  0017    3689   1  126.946517  37.534363\n",
       "1  0017    3298   2  126.949304  37.533961\n",
       "2  0017    3321   3  126.950449  37.533744"
      ]
     },
     "execution_count": 3,
     "metadata": {},
     "output_type": "execute_result"
    }
   ],
   "source": [
    "bus.head(3)"
   ]
  },
  {
   "cell_type": "markdown",
   "metadata": {},
   "source": [
    "### b1 : 특정 노선 내 정류장에 대한 승하차수 데이터가 있다\n",
    "- 이때 버스정류장ARS번호 = ARS-ID"
   ]
  },
  {
   "cell_type": "code",
   "execution_count": 4,
   "metadata": {},
   "outputs": [
    {
     "data": {
      "text/html": [
       "<div>\n",
       "<style scoped>\n",
       "    .dataframe tbody tr th:only-of-type {\n",
       "        vertical-align: middle;\n",
       "    }\n",
       "\n",
       "    .dataframe tbody tr th {\n",
       "        vertical-align: top;\n",
       "    }\n",
       "\n",
       "    .dataframe thead th {\n",
       "        text-align: right;\n",
       "    }\n",
       "</style>\n",
       "<table border=\"1\" class=\"dataframe\">\n",
       "  <thead>\n",
       "    <tr style=\"text-align: right;\">\n",
       "      <th></th>\n",
       "      <th>사용일자</th>\n",
       "      <th>노선번호</th>\n",
       "      <th>노선명</th>\n",
       "      <th>버스정류장ARS번호</th>\n",
       "      <th>역명</th>\n",
       "      <th>승차총승객수</th>\n",
       "      <th>하차총승객수</th>\n",
       "      <th>등록일자</th>\n",
       "    </tr>\n",
       "  </thead>\n",
       "  <tbody>\n",
       "    <tr>\n",
       "      <th>0</th>\n",
       "      <td>20200101</td>\n",
       "      <td>N62</td>\n",
       "      <td>N62번(양천공영차고지~면목동차고지)</td>\n",
       "      <td>04133</td>\n",
       "      <td>왕십리역</td>\n",
       "      <td>0</td>\n",
       "      <td>13</td>\n",
       "      <td>20200104</td>\n",
       "    </tr>\n",
       "    <tr>\n",
       "      <th>1</th>\n",
       "      <td>20200101</td>\n",
       "      <td>N62</td>\n",
       "      <td>N62번(양천공영차고지~면목동차고지)</td>\n",
       "      <td>04136</td>\n",
       "      <td>행당1동주민센터.성동소방서</td>\n",
       "      <td>2</td>\n",
       "      <td>3</td>\n",
       "      <td>20200104</td>\n",
       "    </tr>\n",
       "    <tr>\n",
       "      <th>2</th>\n",
       "      <td>20200101</td>\n",
       "      <td>N62</td>\n",
       "      <td>N62번(양천공영차고지~면목동차고지)</td>\n",
       "      <td>04186</td>\n",
       "      <td>성동교남단</td>\n",
       "      <td>0</td>\n",
       "      <td>2</td>\n",
       "      <td>20200104</td>\n",
       "    </tr>\n",
       "  </tbody>\n",
       "</table>\n",
       "</div>"
      ],
      "text/plain": [
       "       사용일자 노선번호                   노선명 버스정류장ARS번호              역명  승차총승객수  \\\n",
       "0  20200101  N62  N62번(양천공영차고지~면목동차고지)      04133            왕십리역       0   \n",
       "1  20200101  N62  N62번(양천공영차고지~면목동차고지)      04136  행당1동주민센터.성동소방서       2   \n",
       "2  20200101  N62  N62번(양천공영차고지~면목동차고지)      04186           성동교남단       0   \n",
       "\n",
       "   하차총승객수      등록일자  \n",
       "0      13  20200104  \n",
       "1       3  20200104  \n",
       "2       2  20200104  "
      ]
     },
     "execution_count": 4,
     "metadata": {},
     "output_type": "execute_result"
    }
   ],
   "source": [
    "b1.head(3)"
   ]
  },
  {
   "cell_type": "markdown",
   "metadata": {},
   "source": [
    "# Edge 파일과 Node 파일을 만들기 위한 전처리\n",
    "- 전처리하여 만들어줄 데이터프레임의 칼럼 : \n",
    "- '노선',  '정류장id',  'label',  '같은 노선 내 정류장 순서',  '지도좌표',  '승하차'"
   ]
  },
  {
   "cell_type": "markdown",
   "metadata": {},
   "source": [
    "### 특정 노선 안의 버스정류장에 대한 승하차 데이터가 30일 동안 있을거니까\n",
    "- 승하차수는 평균내주자\n",
    "- 물론 역명은 딱 하나만 필요하니 'first'로 처리"
   ]
  },
  {
   "cell_type": "code",
   "execution_count": 5,
   "metadata": {},
   "outputs": [
    {
     "data": {
      "text/html": [
       "<div>\n",
       "<style scoped>\n",
       "    .dataframe tbody tr th:only-of-type {\n",
       "        vertical-align: middle;\n",
       "    }\n",
       "\n",
       "    .dataframe tbody tr th {\n",
       "        vertical-align: top;\n",
       "    }\n",
       "\n",
       "    .dataframe thead th {\n",
       "        text-align: right;\n",
       "    }\n",
       "</style>\n",
       "<table border=\"1\" class=\"dataframe\">\n",
       "  <thead>\n",
       "    <tr style=\"text-align: right;\">\n",
       "      <th></th>\n",
       "      <th>노선번호</th>\n",
       "      <th>버스정류장ARS번호</th>\n",
       "      <th>역명</th>\n",
       "      <th>승차총승객수</th>\n",
       "      <th>하차총승객수</th>\n",
       "    </tr>\n",
       "  </thead>\n",
       "  <tbody>\n",
       "    <tr>\n",
       "      <th>0</th>\n",
       "      <td>0017</td>\n",
       "      <td>03001</td>\n",
       "      <td>한강대교북단.LG유플러스</td>\n",
       "      <td>219.193548</td>\n",
       "      <td>416.193548</td>\n",
       "    </tr>\n",
       "    <tr>\n",
       "      <th>1</th>\n",
       "      <td>0017</td>\n",
       "      <td>03003</td>\n",
       "      <td>신용산역</td>\n",
       "      <td>146.548387</td>\n",
       "      <td>381.838710</td>\n",
       "    </tr>\n",
       "    <tr>\n",
       "      <th>2</th>\n",
       "      <td>0017</td>\n",
       "      <td>03122</td>\n",
       "      <td>한강대교북단</td>\n",
       "      <td>198.032258</td>\n",
       "      <td>147.354839</td>\n",
       "    </tr>\n",
       "  </tbody>\n",
       "</table>\n",
       "</div>"
      ],
      "text/plain": [
       "   노선번호 버스정류장ARS번호             역명      승차총승객수      하차총승객수\n",
       "0  0017      03001  한강대교북단.LG유플러스  219.193548  416.193548\n",
       "1  0017      03003           신용산역  146.548387  381.838710\n",
       "2  0017      03122         한강대교북단  198.032258  147.354839"
      ]
     },
     "execution_count": 5,
     "metadata": {},
     "output_type": "execute_result"
    }
   ],
   "source": [
    "B = b1.groupby(['노선번호','버스정류장ARS번호']).agg({'역명':'first','승차총승객수':'mean','하차총승객수':'mean'}).reset_index()\n",
    "B.head(3)"
   ]
  },
  {
   "cell_type": "code",
   "execution_count": 6,
   "metadata": {},
   "outputs": [],
   "source": [
    "# 정류장id중에 '~' 인것도 있는데 정체는 가상id\n",
    "# 가상id란? (특정 노선의 정류장 간격이 엄청 길때 기록을 위해 일부러 만든 가상id)\n",
    "# 즉, 필요없으니까 없애주자\n",
    "B = B.drop(B[B['버스정류장ARS번호']=='~'].index)"
   ]
  },
  {
   "cell_type": "code",
   "execution_count": 7,
   "metadata": {},
   "outputs": [],
   "source": [
    "# 정류장id를 int로 통일하자아\n",
    "B['버스정류장ARS번호'] = B['버스정류장ARS번호'].astype(int)"
   ]
  },
  {
   "cell_type": "code",
   "execution_count": 8,
   "metadata": {},
   "outputs": [
    {
     "data": {
      "text/plain": [
       "0"
      ]
     },
     "execution_count": 8,
     "metadata": {},
     "output_type": "execute_result"
    }
   ],
   "source": [
    "# 특정 노선에 대해 정류장id에 대해 역명이 혹여나 겹치는게 있는지 확인\n",
    "B.duplicated(['노선번호','버스정류장ARS번호','역명']).sum()\n",
    "# 다행이 없다"
   ]
  },
  {
   "cell_type": "code",
   "execution_count": 9,
   "metadata": {},
   "outputs": [
    {
     "data": {
      "text/html": [
       "<div>\n",
       "<style scoped>\n",
       "    .dataframe tbody tr th:only-of-type {\n",
       "        vertical-align: middle;\n",
       "    }\n",
       "\n",
       "    .dataframe tbody tr th {\n",
       "        vertical-align: top;\n",
       "    }\n",
       "\n",
       "    .dataframe thead th {\n",
       "        text-align: right;\n",
       "    }\n",
       "</style>\n",
       "<table border=\"1\" class=\"dataframe\">\n",
       "  <thead>\n",
       "    <tr style=\"text-align: right;\">\n",
       "      <th></th>\n",
       "      <th>노선명</th>\n",
       "      <th>ARS-ID</th>\n",
       "      <th>순번</th>\n",
       "      <th>X좌표</th>\n",
       "      <th>Y좌표</th>\n",
       "      <th>노선번호</th>\n",
       "      <th>버스정류장ARS번호</th>\n",
       "      <th>역명</th>\n",
       "      <th>승차총승객수</th>\n",
       "      <th>하차총승객수</th>\n",
       "    </tr>\n",
       "  </thead>\n",
       "  <tbody>\n",
       "    <tr>\n",
       "      <th>0</th>\n",
       "      <td>0017</td>\n",
       "      <td>3689</td>\n",
       "      <td>1</td>\n",
       "      <td>126.946517</td>\n",
       "      <td>37.534363</td>\n",
       "      <td>0017</td>\n",
       "      <td>3689.0</td>\n",
       "      <td>청암자이아파트</td>\n",
       "      <td>19.516129</td>\n",
       "      <td>0.225806</td>\n",
       "    </tr>\n",
       "    <tr>\n",
       "      <th>1</th>\n",
       "      <td>0017</td>\n",
       "      <td>3298</td>\n",
       "      <td>2</td>\n",
       "      <td>126.949304</td>\n",
       "      <td>37.533961</td>\n",
       "      <td>0017</td>\n",
       "      <td>3298.0</td>\n",
       "      <td>청암동강변삼성아파트</td>\n",
       "      <td>59.951613</td>\n",
       "      <td>58.096774</td>\n",
       "    </tr>\n",
       "    <tr>\n",
       "      <th>2</th>\n",
       "      <td>0017</td>\n",
       "      <td>3321</td>\n",
       "      <td>3</td>\n",
       "      <td>126.950449</td>\n",
       "      <td>37.533744</td>\n",
       "      <td>0017</td>\n",
       "      <td>3321.0</td>\n",
       "      <td>청심경로당</td>\n",
       "      <td>94.322581</td>\n",
       "      <td>1.967742</td>\n",
       "    </tr>\n",
       "  </tbody>\n",
       "</table>\n",
       "</div>"
      ],
      "text/plain": [
       "    노선명  ARS-ID  순번         X좌표        Y좌표  노선번호  버스정류장ARS번호          역명  \\\n",
       "0  0017    3689   1  126.946517  37.534363  0017      3689.0     청암자이아파트   \n",
       "1  0017    3298   2  126.949304  37.533961  0017      3298.0  청암동강변삼성아파트   \n",
       "2  0017    3321   3  126.950449  37.533744  0017      3321.0       청심경로당   \n",
       "\n",
       "      승차총승객수     하차총승객수  \n",
       "0  19.516129   0.225806  \n",
       "1  59.951613  58.096774  \n",
       "2  94.322581   1.967742  "
      ]
     },
     "execution_count": 9,
     "metadata": {},
     "output_type": "execute_result"
    }
   ],
   "source": [
    "# 이제 bus와 B를 merge시키자\n",
    "# merge하기위한 key : 노선, 정류장id\n",
    "T = pd.merge(bus, B, how='left', left_on=['노선명','ARS-ID'], right_on=['노선번호', '버스정류장ARS번호'])\n",
    "T.head(3)"
   ]
  },
  {
   "cell_type": "code",
   "execution_count": 10,
   "metadata": {},
   "outputs": [],
   "source": [
    "# merge하면서 생긴 NaN값 객체들 없애주자아\n",
    "T = T.dropna(axis=0)"
   ]
  },
  {
   "cell_type": "code",
   "execution_count": 11,
   "metadata": {},
   "outputs": [
    {
     "data": {
      "text/html": [
       "<div>\n",
       "<style scoped>\n",
       "    .dataframe tbody tr th:only-of-type {\n",
       "        vertical-align: middle;\n",
       "    }\n",
       "\n",
       "    .dataframe tbody tr th {\n",
       "        vertical-align: top;\n",
       "    }\n",
       "\n",
       "    .dataframe thead th {\n",
       "        text-align: right;\n",
       "    }\n",
       "</style>\n",
       "<table border=\"1\" class=\"dataframe\">\n",
       "  <thead>\n",
       "    <tr style=\"text-align: right;\">\n",
       "      <th></th>\n",
       "      <th>노선명</th>\n",
       "      <th>ARS-ID</th>\n",
       "      <th>역명</th>\n",
       "      <th>순번</th>\n",
       "      <th>X좌표</th>\n",
       "      <th>Y좌표</th>\n",
       "      <th>하차총승객수</th>\n",
       "      <th>승차총승객수</th>\n",
       "    </tr>\n",
       "  </thead>\n",
       "  <tbody>\n",
       "    <tr>\n",
       "      <th>0</th>\n",
       "      <td>0017</td>\n",
       "      <td>3689</td>\n",
       "      <td>청암자이아파트</td>\n",
       "      <td>1</td>\n",
       "      <td>126.946517</td>\n",
       "      <td>37.534363</td>\n",
       "      <td>0.225806</td>\n",
       "      <td>19.516129</td>\n",
       "    </tr>\n",
       "    <tr>\n",
       "      <th>1</th>\n",
       "      <td>0017</td>\n",
       "      <td>3298</td>\n",
       "      <td>청암동강변삼성아파트</td>\n",
       "      <td>2</td>\n",
       "      <td>126.949304</td>\n",
       "      <td>37.533961</td>\n",
       "      <td>58.096774</td>\n",
       "      <td>59.951613</td>\n",
       "    </tr>\n",
       "    <tr>\n",
       "      <th>2</th>\n",
       "      <td>0017</td>\n",
       "      <td>3321</td>\n",
       "      <td>청심경로당</td>\n",
       "      <td>3</td>\n",
       "      <td>126.950449</td>\n",
       "      <td>37.533744</td>\n",
       "      <td>1.967742</td>\n",
       "      <td>94.322581</td>\n",
       "    </tr>\n",
       "  </tbody>\n",
       "</table>\n",
       "</div>"
      ],
      "text/plain": [
       "    노선명  ARS-ID          역명  순번         X좌표        Y좌표     하차총승객수     승차총승객수\n",
       "0  0017    3689     청암자이아파트   1  126.946517  37.534363   0.225806  19.516129\n",
       "1  0017    3298  청암동강변삼성아파트   2  126.949304  37.533961  58.096774  59.951613\n",
       "2  0017    3321       청심경로당   3  126.950449  37.533744   1.967742  94.322581"
      ]
     },
     "execution_count": 11,
     "metadata": {},
     "output_type": "execute_result"
    }
   ],
   "source": [
    "# 이름만 다르고 같은 데이터 (노선명, 노선번호 등) 를 없애주자\n",
    "T = T.loc[:,['노선명','ARS-ID','역명','순번','X좌표','Y좌표','하차총승객수','승차총승객수']]\n",
    "\n",
    "# 같은 노선에 대하여 정류장 순서대로 sort해주자\n",
    "# 그래야 edge 파일 만들때 편하다\n",
    "T.sort_values(['노선명','순번'], inplace=True)\n",
    "T.reset_index(drop=True, inplace=True)\n",
    "T.head(3)\n",
    "\n",
    "# 노선명과 순번 값을 주목하자아ㅏ!"
   ]
  },
  {
   "cell_type": "markdown",
   "metadata": {},
   "source": [
    "# Edge 파일 만들기-1 (weight = 승차수)\n",
    "- 최종파일 형태 : source, target, weight"
   ]
  },
  {
   "cell_type": "code",
   "execution_count": 12,
   "metadata": {},
   "outputs": [
    {
     "name": "stdout",
     "output_type": "stream",
     "text": [
      "35365 35365\n"
     ]
    },
    {
     "data": {
      "text/html": [
       "<div>\n",
       "<style scoped>\n",
       "    .dataframe tbody tr th:only-of-type {\n",
       "        vertical-align: middle;\n",
       "    }\n",
       "\n",
       "    .dataframe tbody tr th {\n",
       "        vertical-align: top;\n",
       "    }\n",
       "\n",
       "    .dataframe thead th {\n",
       "        text-align: right;\n",
       "    }\n",
       "</style>\n",
       "<table border=\"1\" class=\"dataframe\">\n",
       "  <thead>\n",
       "    <tr style=\"text-align: right;\">\n",
       "      <th></th>\n",
       "      <th>source</th>\n",
       "      <th>target</th>\n",
       "      <th>weight</th>\n",
       "    </tr>\n",
       "  </thead>\n",
       "  <tbody>\n",
       "    <tr>\n",
       "      <th>0</th>\n",
       "      <td>3689.0</td>\n",
       "      <td>3298.0</td>\n",
       "      <td>20.0</td>\n",
       "    </tr>\n",
       "    <tr>\n",
       "      <th>1</th>\n",
       "      <td>3298.0</td>\n",
       "      <td>3321.0</td>\n",
       "      <td>60.0</td>\n",
       "    </tr>\n",
       "    <tr>\n",
       "      <th>2</th>\n",
       "      <td>3321.0</td>\n",
       "      <td>3304.0</td>\n",
       "      <td>94.0</td>\n",
       "    </tr>\n",
       "  </tbody>\n",
       "</table>\n",
       "</div>"
      ],
      "text/plain": [
       "   source  target  weight\n",
       "0  3689.0  3298.0    20.0\n",
       "1  3298.0  3321.0    60.0\n",
       "2  3321.0  3304.0    94.0"
      ]
     },
     "execution_count": 12,
     "metadata": {},
     "output_type": "execute_result"
    }
   ],
   "source": [
    "# 서울 내 unique한 노선명들을 list로 담아두자,\n",
    "LANE = T.노선명.unique().tolist()\n",
    "# 최종파일 : result\n",
    "result = pd.DataFrame(columns=['source','target','weight'])\n",
    "\n",
    "for lane in LANE:\n",
    "    # 특정 노선에 대한 데이터만 담자 : lane_df\n",
    "    lane_df = T.loc[T['노선명']==lane].reset_index(drop=True)\n",
    "    # 그 노선 내 버스가 지나가는 총 정류장수 (회차하면 중복정류장도 있겠지)\n",
    "    length_of_lane = len(lane_df)\n",
    "    \n",
    "    i=0 # 순번끼리 잇기 위해 준비한 친구\n",
    "    \n",
    "    while i < (length_of_lane - 1) : # 그 노선 내 마지막 순번될때까지 loop\n",
    "        # 만들어줄 데이터 형태 : [source, target, weight, lane]\n",
    "        # source : ith 정류장\n",
    "        # target : (i+1)th 정류장\n",
    "        source = lane_df.at[i,'ARS-ID']\n",
    "        target = lane_df.at[i+1, 'ARS-ID']\n",
    "        weight = round(lane_df.at[i, '승차총승객수'])\n",
    "        \n",
    "        # [source, target, weight, lane] 하나하나 만들어 result에 담아주자\n",
    "        tmp = {'source':source, 'target':target, 'weight':weight}\n",
    "        result = result.append(tmp, ignore_index=True)\n",
    "        # 그 다음 순번으로 갱신\n",
    "        i = i+1\n",
    "\n",
    "# 빠짐없이 만들어졌는지 확인\n",
    "# 이때 T.노선명.nunique() 빼주는 이유는\n",
    "# source, target 만들어주면 그만큼 원래 T에서 1개씩 줄어드니까\n",
    "# ex) 순번 0,1,2 : 3개 // (0,1),(1,2) : 2개\n",
    "print(T.shape[0]-T.노선명.nunique(), result.shape[0])\n",
    "result.head(3)"
   ]
  },
  {
   "cell_type": "code",
   "execution_count": 13,
   "metadata": {},
   "outputs": [],
   "source": [
    "# 완성\n",
    "result.to_csv('Edge_sample.csv', index=False)"
   ]
  },
  {
   "cell_type": "markdown",
   "metadata": {},
   "source": [
    "# Edge 파일 만들기-2 (weight = 570m / distance)\n",
    "- 최종파일 형태 : source, target, distance, weight\n",
    "- distance : haversine 패키지 이용하여 지도좌표들간 거리 구해줄것이당\n",
    "- 그 즉슨 패키지 설치해주셔야함...\n",
    "- 참고로 코드실행이 쬐금 오래걸림"
   ]
  },
  {
   "cell_type": "code",
   "execution_count": 14,
   "metadata": {},
   "outputs": [
    {
     "name": "stdout",
     "output_type": "stream",
     "text": [
      "35365 35365\n"
     ]
    },
    {
     "data": {
      "text/html": [
       "<div>\n",
       "<style scoped>\n",
       "    .dataframe tbody tr th:only-of-type {\n",
       "        vertical-align: middle;\n",
       "    }\n",
       "\n",
       "    .dataframe tbody tr th {\n",
       "        vertical-align: top;\n",
       "    }\n",
       "\n",
       "    .dataframe thead th {\n",
       "        text-align: right;\n",
       "    }\n",
       "</style>\n",
       "<table border=\"1\" class=\"dataframe\">\n",
       "  <thead>\n",
       "    <tr style=\"text-align: right;\">\n",
       "      <th></th>\n",
       "      <th>source</th>\n",
       "      <th>target</th>\n",
       "      <th>distance</th>\n",
       "      <th>weight</th>\n",
       "    </tr>\n",
       "  </thead>\n",
       "  <tbody>\n",
       "    <tr>\n",
       "      <th>0</th>\n",
       "      <td>3689.0</td>\n",
       "      <td>3298.0</td>\n",
       "      <td>0.249719</td>\n",
       "      <td>1.0</td>\n",
       "    </tr>\n",
       "    <tr>\n",
       "      <th>1</th>\n",
       "      <td>3298.0</td>\n",
       "      <td>3321.0</td>\n",
       "      <td>0.103780</td>\n",
       "      <td>1.0</td>\n",
       "    </tr>\n",
       "    <tr>\n",
       "      <th>2</th>\n",
       "      <td>3321.0</td>\n",
       "      <td>3304.0</td>\n",
       "      <td>0.071748</td>\n",
       "      <td>1.0</td>\n",
       "    </tr>\n",
       "  </tbody>\n",
       "</table>\n",
       "</div>"
      ],
      "text/plain": [
       "   source  target  distance  weight\n",
       "0  3689.0  3298.0  0.249719     1.0\n",
       "1  3298.0  3321.0  0.103780     1.0\n",
       "2  3321.0  3304.0  0.071748     1.0"
      ]
     },
     "execution_count": 14,
     "metadata": {},
     "output_type": "execute_result"
    }
   ],
   "source": [
    "from haversine import haversine\n",
    "\n",
    "LANE = T.노선명.unique().tolist()\n",
    "result = pd.DataFrame(columns=['source','target','distance','weight'])\n",
    "\n",
    "for lane in LANE:\n",
    "    lane_df = T.loc[T['노선명']==lane].reset_index(drop=True)\n",
    "    length_of_lane = len(lane_df)\n",
    "    \n",
    "    i=0\n",
    "    \n",
    "    while i < (length_of_lane - 1):\n",
    "        # 만들어줄 데이터 형태 : [source, target, distance, weight]\n",
    "        source = lane_df.at[i,'ARS-ID']\n",
    "        target = lane_df.at[i+1, 'ARS-ID']\n",
    "        \n",
    "        # 두개의 좌표간 거리 구할려면\n",
    "        # (latitude(Y좌표), longitude(X좌표)) 순서로 계산해야함\n",
    "        # 이떄 haversine의 결과값의 단위는 km인거 명심하자!\n",
    "        source_coordinate = lane_df.loc[i,['Y좌표','X좌표']]\n",
    "        target_coordinate = lane_df.loc[i+1,['Y좌표','X좌표']]\n",
    "        distance = haversine(source_coordinate,target_coordinate)\n",
    "        \n",
    "        # weight는 거리가 짧을수록 커야하니까 distance의 역수를 취해주되\n",
    "        # 570m 이하의 거리의 weight : 1\n",
    "        # 570m 이상의 거리의 weight : 0.57km / distance 해주자\n",
    "        if distance > 0.57:\n",
    "            weight = 0.57 / distance\n",
    "        elif distance <= 0.57:\n",
    "            weight = 1\n",
    "        \n",
    "        # [source, target, distance, weight] 하나하나 만들어 result에 담아주자\n",
    "        tmp = {'source':source, 'target':target, 'distance':distance, 'weight':weight}\n",
    "        result = result.append(tmp, ignore_index=True)\n",
    "        # 그 다음 순번으로 갱신\n",
    "        i = i+1\n",
    "\n",
    "# 빠짐없이 만들어졌는지 확인\n",
    "print(T.shape[0]-T.노선명.nunique(), result.shape[0])\n",
    "result.head(3)"
   ]
  },
  {
   "cell_type": "code",
   "execution_count": 15,
   "metadata": {},
   "outputs": [],
   "source": [
    "# 완성\n",
    "result.to_csv('Edge_sample2.csv', index=False)"
   ]
  },
  {
   "cell_type": "markdown",
   "metadata": {},
   "source": [
    "# ㅡㅡㅡㅡㅡㅡㅡㅡㅡㅡㅡㅡㅡㅡㅡㅡㅡㅡㅡ"
   ]
  },
  {
   "cell_type": "markdown",
   "metadata": {},
   "source": [
    "# Node 파일 만들기\n",
    "- 칼럼 : id, label, 지도좌표\n",
    "- 전략 : 한번에 Node파일 만들기 힘들어서\n",
    "- id,label만 있는 데이터프레임 따로 만들고\n",
    "- id, 지도좌표 만 있는 데이터프레임도 따로 만들어서\n",
    "- 두 데이터프레임을 id기준으로 merge해버리자"
   ]
  },
  {
   "cell_type": "markdown",
   "metadata": {},
   "source": [
    "### 첫번째 데이터프레임 : id, label"
   ]
  },
  {
   "cell_type": "code",
   "execution_count": 16,
   "metadata": {},
   "outputs": [
    {
     "data": {
      "text/html": [
       "<div>\n",
       "<style scoped>\n",
       "    .dataframe tbody tr th:only-of-type {\n",
       "        vertical-align: middle;\n",
       "    }\n",
       "\n",
       "    .dataframe tbody tr th {\n",
       "        vertical-align: top;\n",
       "    }\n",
       "\n",
       "    .dataframe thead th {\n",
       "        text-align: right;\n",
       "    }\n",
       "</style>\n",
       "<table border=\"1\" class=\"dataframe\">\n",
       "  <thead>\n",
       "    <tr style=\"text-align: right;\">\n",
       "      <th></th>\n",
       "      <th>ARS-ID</th>\n",
       "      <th>역명</th>\n",
       "    </tr>\n",
       "  </thead>\n",
       "  <tbody>\n",
       "    <tr>\n",
       "      <th>0</th>\n",
       "      <td>1001</td>\n",
       "      <td>[종로2가사거리]</td>\n",
       "    </tr>\n",
       "    <tr>\n",
       "      <th>1</th>\n",
       "      <td>1002</td>\n",
       "      <td>[창경궁.서울대학교병원]</td>\n",
       "    </tr>\n",
       "    <tr>\n",
       "      <th>2</th>\n",
       "      <td>1003</td>\n",
       "      <td>[명륜3가.성대입구]</td>\n",
       "    </tr>\n",
       "  </tbody>\n",
       "</table>\n",
       "</div>"
      ],
      "text/plain": [
       "   ARS-ID             역명\n",
       "0    1001      [종로2가사거리]\n",
       "1    1002  [창경궁.서울대학교병원]\n",
       "2    1003    [명륜3가.성대입구]"
      ]
     },
     "execution_count": 16,
     "metadata": {},
     "output_type": "execute_result"
    }
   ],
   "source": [
    "Simple_node = T.groupby('ARS-ID')['역명'].unique().reset_index()\n",
    "Simple_node.head(3)"
   ]
  },
  {
   "cell_type": "code",
   "execution_count": 17,
   "metadata": {},
   "outputs": [],
   "source": [
    "# groupby()[].unique() 함수의 문제점은\n",
    "# 결과가 위에처럼 리스트 형태로 저장된다\n",
    "# 리스트 형태를 없애기 위해 어쩔수 없이 밑에 코드로 처리해준다.\n",
    "\n",
    "tmp = []\n",
    "for idx in Simple_node.index:\n",
    "    # 리스트의 값을 꺼내어 tmp에 담는것\n",
    "    tmp.append(Simple_node.역명[idx][0])\n",
    "\n",
    "# tmp를 고대로 새로운 칼럼 label에 붙여버린다.\n",
    "Simple_node['label']=tmp"
   ]
  },
  {
   "cell_type": "markdown",
   "metadata": {},
   "source": [
    "### 두번째 데이터프레임 : id, 지도좌표"
   ]
  },
  {
   "cell_type": "code",
   "execution_count": 18,
   "metadata": {},
   "outputs": [],
   "source": [
    "# 이제 지도좌표\n",
    "\n",
    "bus_geo = T.loc[:,['ARS-ID','X좌표','Y좌표']]\n",
    "\n",
    "# 애초에 T에 모든 버스노선이 있는만큼\n",
    "# 버스정류장 중복이 겁나 많은데\n",
    "# 현재 Node 파일 만드는게 목표이니까 중복 없애주자\n",
    "# keep='first'는 중복 데이터들 중에 맨 첫번째것만 살리자는것\n",
    "bus_geo = bus_geo.drop_duplicates(['ARS-ID'], keep='first')"
   ]
  },
  {
   "cell_type": "code",
   "execution_count": 19,
   "metadata": {},
   "outputs": [
    {
     "data": {
      "text/html": [
       "<div>\n",
       "<style scoped>\n",
       "    .dataframe tbody tr th:only-of-type {\n",
       "        vertical-align: middle;\n",
       "    }\n",
       "\n",
       "    .dataframe tbody tr th {\n",
       "        vertical-align: top;\n",
       "    }\n",
       "\n",
       "    .dataframe thead th {\n",
       "        text-align: right;\n",
       "    }\n",
       "</style>\n",
       "<table border=\"1\" class=\"dataframe\">\n",
       "  <thead>\n",
       "    <tr style=\"text-align: right;\">\n",
       "      <th></th>\n",
       "      <th>ARS-ID</th>\n",
       "      <th>역명</th>\n",
       "      <th>label</th>\n",
       "      <th>X좌표</th>\n",
       "      <th>Y좌표</th>\n",
       "    </tr>\n",
       "  </thead>\n",
       "  <tbody>\n",
       "    <tr>\n",
       "      <th>0</th>\n",
       "      <td>1001</td>\n",
       "      <td>[종로2가사거리]</td>\n",
       "      <td>종로2가사거리</td>\n",
       "      <td>126.987786</td>\n",
       "      <td>37.569764</td>\n",
       "    </tr>\n",
       "    <tr>\n",
       "      <th>1</th>\n",
       "      <td>1002</td>\n",
       "      <td>[창경궁.서울대학교병원]</td>\n",
       "      <td>창경궁.서울대학교병원</td>\n",
       "      <td>126.996520</td>\n",
       "      <td>37.579179</td>\n",
       "    </tr>\n",
       "    <tr>\n",
       "      <th>2</th>\n",
       "      <td>1003</td>\n",
       "      <td>[명륜3가.성대입구]</td>\n",
       "      <td>명륜3가.성대입구</td>\n",
       "      <td>126.998290</td>\n",
       "      <td>37.582709</td>\n",
       "    </tr>\n",
       "  </tbody>\n",
       "</table>\n",
       "</div>"
      ],
      "text/plain": [
       "   ARS-ID             역명        label         X좌표        Y좌표\n",
       "0    1001      [종로2가사거리]      종로2가사거리  126.987786  37.569764\n",
       "1    1002  [창경궁.서울대학교병원]  창경궁.서울대학교병원  126.996520  37.579179\n",
       "2    1003    [명륜3가.성대입구]    명륜3가.성대입구  126.998290  37.582709"
      ]
     },
     "execution_count": 19,
     "metadata": {},
     "output_type": "execute_result"
    }
   ],
   "source": [
    "Simple_node = pd.merge(Simple_node, bus_geo, how='left', on='ARS-ID')\n",
    "Simple_node.head(3)"
   ]
  },
  {
   "cell_type": "code",
   "execution_count": 20,
   "metadata": {},
   "outputs": [
    {
     "data": {
      "text/html": [
       "<div>\n",
       "<style scoped>\n",
       "    .dataframe tbody tr th:only-of-type {\n",
       "        vertical-align: middle;\n",
       "    }\n",
       "\n",
       "    .dataframe tbody tr th {\n",
       "        vertical-align: top;\n",
       "    }\n",
       "\n",
       "    .dataframe thead th {\n",
       "        text-align: right;\n",
       "    }\n",
       "</style>\n",
       "<table border=\"1\" class=\"dataframe\">\n",
       "  <thead>\n",
       "    <tr style=\"text-align: right;\">\n",
       "      <th></th>\n",
       "      <th>id</th>\n",
       "      <th>longitude</th>\n",
       "      <th>latitude</th>\n",
       "    </tr>\n",
       "    <tr>\n",
       "      <th>label</th>\n",
       "      <th></th>\n",
       "      <th></th>\n",
       "      <th></th>\n",
       "    </tr>\n",
       "  </thead>\n",
       "  <tbody>\n",
       "    <tr>\n",
       "      <th>종로2가사거리</th>\n",
       "      <td>1001</td>\n",
       "      <td>126.987786</td>\n",
       "      <td>37.569764</td>\n",
       "    </tr>\n",
       "    <tr>\n",
       "      <th>창경궁.서울대학교병원</th>\n",
       "      <td>1002</td>\n",
       "      <td>126.996520</td>\n",
       "      <td>37.579179</td>\n",
       "    </tr>\n",
       "    <tr>\n",
       "      <th>명륜3가.성대입구</th>\n",
       "      <td>1003</td>\n",
       "      <td>126.998290</td>\n",
       "      <td>37.582709</td>\n",
       "    </tr>\n",
       "  </tbody>\n",
       "</table>\n",
       "</div>"
      ],
      "text/plain": [
       "               id   longitude   latitude\n",
       "label                                   \n",
       "종로2가사거리      1001  126.987786  37.569764\n",
       "창경궁.서울대학교병원  1002  126.996520  37.579179\n",
       "명륜3가.성대입구    1003  126.998290  37.582709"
      ]
     },
     "execution_count": 20,
     "metadata": {},
     "output_type": "execute_result"
    }
   ],
   "source": [
    "# 역명은 필요없으니 없애주자\n",
    "Simple_node = Simple_node.loc[:,['ARS-ID', 'label', 'X좌표', 'Y좌표']]\n",
    "# 인덱스를 label로 만들어줄 계획\n",
    "Simple_node.set_index('label', inplace=True)\n",
    "# 칼럼 이름 바꾸기\n",
    "Simple_node.rename(columns={'ARS-ID':'id', 'X좌표':'longitude', 'Y좌표':'latitude'}, inplace=True)\n",
    "\n",
    "# 최종 형태 :\n",
    "Simple_node.head(3)"
   ]
  },
  {
   "cell_type": "code",
   "execution_count": 21,
   "metadata": {},
   "outputs": [],
   "source": [
    "# 완성\n",
    "Simple_node.to_csv('Node_file.csv', sep=',')"
   ]
  }
 ],
 "metadata": {
  "kernelspec": {
   "display_name": "Python 3",
   "language": "python",
   "name": "python3"
  },
  "language_info": {
   "codemirror_mode": {
    "name": "ipython",
    "version": 3
   },
   "file_extension": ".py",
   "mimetype": "text/x-python",
   "name": "python",
   "nbconvert_exporter": "python",
   "pygments_lexer": "ipython3",
   "version": "3.8.3"
  }
 },
 "nbformat": 4,
 "nbformat_minor": 4
}
